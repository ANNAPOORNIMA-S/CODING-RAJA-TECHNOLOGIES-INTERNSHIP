{
  "nbformat": 4,
  "nbformat_minor": 0,
  "metadata": {
    "colab": {
      "provenance": []
    },
    "kernelspec": {
      "name": "python3",
      "display_name": "Python 3"
    },
    "language_info": {
      "name": "python"
    }
  },
  "cells": [
    {
      "cell_type": "markdown",
      "source": [
        "## TASK 2 : FRAUD DETECTION IN FINANCIAL TRANSACTIONS"
      ],
      "metadata": {
        "id": "Cy_2e349aKCd"
      }
    },
    {
      "cell_type": "markdown",
      "source": [
        "NAME : Annapoornima S\n",
        "\n",
        "Datascience"
      ],
      "metadata": {
        "id": "AWo0wOAjagFe"
      }
    },
    {
      "cell_type": "markdown",
      "source": [
        "Description: Develop a machine learning model to detect fraudulent transactions in a financial dataset. Steps"
      ],
      "metadata": {
        "id": "ockW_AA0bAuG"
      }
    },
    {
      "cell_type": "markdown",
      "source": [
        "#### 1. Data Collection: Obtain historical transaction data, including features like transaction amount, timestamp, etc."
      ],
      "metadata": {
        "id": "n9wpAMVia5jq"
      }
    },
    {
      "cell_type": "code",
      "execution_count": 1,
      "metadata": {
        "id": "rH7NokcAQMZB"
      },
      "outputs": [],
      "source": [
        "\n",
        "import pandas as pd\n",
        "\n",
        "# Load the dataset\n",
        "data = pd.read_csv('creditcard.csv')\n"
      ]
    },
    {
      "cell_type": "markdown",
      "source": [
        "### 2. Data Preprocessing: Clean the data, handle missing values, and balance the dataset if needed."
      ],
      "metadata": {
        "id": "5E5jB-lSbX3c"
      }
    },
    {
      "cell_type": "code",
      "source": [
        "# Handle missing values\n",
        "data = data.dropna()\n",
        "\n",
        "# Balance the dataset if needed\n",
        "# i can use techniques like undersampling or oversampling to handle class imbalance\n"
      ],
      "metadata": {
        "id": "PA2SOh5qSY6m"
      },
      "execution_count": 2,
      "outputs": []
    },
    {
      "cell_type": "code",
      "source": [
        "data\n"
      ],
      "metadata": {
        "colab": {
          "base_uri": "https://localhost:8080/",
          "height": 444
        },
        "id": "7x199JVGS7lj",
        "outputId": "61a53a04-77d5-437e-c711-db5d4a4eacf2"
      },
      "execution_count": 3,
      "outputs": [
        {
          "output_type": "execute_result",
          "data": {
            "text/plain": [
              "            Time        V1        V2        V3        V4        V5        V6  \\\n",
              "0            0.0 -1.359807 -0.072781  2.536347  1.378155 -0.338321  0.462388   \n",
              "1            0.0  1.191857  0.266151  0.166480  0.448154  0.060018 -0.082361   \n",
              "2            1.0 -1.358354 -1.340163  1.773209  0.379780 -0.503198  1.800499   \n",
              "3            1.0 -0.966272 -0.185226  1.792993 -0.863291 -0.010309  1.247203   \n",
              "4            2.0 -1.158233  0.877737  1.548718  0.403034 -0.407193  0.095921   \n",
              "...          ...       ...       ...       ...       ...       ...       ...   \n",
              "233737  147684.0  2.053311  0.089735 -1.681836  0.454212  0.298310 -0.953526   \n",
              "233738  147684.0  1.938933 -0.726856 -0.197019  0.670379 -1.043038 -0.473694   \n",
              "233739  147684.0 -0.458365 -0.734428 -1.299382 -1.498641 -1.073566  0.340757   \n",
              "233740  147685.0  2.072601 -0.169893 -1.165646  0.150432  0.120419 -0.468132   \n",
              "233741  147685.0  2.302987 -1.402751 -0.661621 -1.441633 -1.615912 -1.008410   \n",
              "\n",
              "              V7        V8        V9  ...       V21       V22       V23  \\\n",
              "0       0.239599  0.098698  0.363787  ... -0.018307  0.277838 -0.110474   \n",
              "1      -0.078803  0.085102 -0.255425  ... -0.225775 -0.638672  0.101288   \n",
              "2       0.791461  0.247676 -1.514654  ...  0.247998  0.771679  0.909412   \n",
              "3       0.237609  0.377436 -1.387024  ... -0.108300  0.005274 -0.190321   \n",
              "4       0.592941 -0.270533  0.817739  ... -0.009431  0.798278 -0.137458   \n",
              "...          ...       ...       ...  ...       ...       ...       ...   \n",
              "233737  0.152003 -0.207071  0.587335  ... -0.361158 -0.984262  0.354198   \n",
              "233738 -0.682871 -0.129264 -0.323037  ... -0.434638 -0.810170  0.369899   \n",
              "233739  0.796631  0.184616 -0.758188  ...  0.819259  2.447577  0.218824   \n",
              "233740 -0.062591 -0.207555  0.631411  ... -0.042515  0.036454  0.191641   \n",
              "233741 -1.235227 -0.195914 -0.952930  ... -0.174727  0.010670  0.276110   \n",
              "\n",
              "             V24       V25       V26       V27       V28  Amount  Class  \n",
              "0       0.066928  0.128539 -0.189115  0.133558 -0.021053  149.62    0.0  \n",
              "1      -0.339846  0.167170  0.125895 -0.008983  0.014724    2.69    0.0  \n",
              "2      -0.689281 -0.327642 -0.139097 -0.055353 -0.059752  378.66    0.0  \n",
              "3      -1.175575  0.647376 -0.221929  0.062723  0.061458  123.50    0.0  \n",
              "4       0.141267 -0.206010  0.502292  0.219422  0.215153   69.99    0.0  \n",
              "...          ...       ...       ...       ...       ...     ...    ...  \n",
              "233737  0.620709 -0.297138  0.166736 -0.068299 -0.029585    8.99    0.0  \n",
              "233738 -0.119773 -0.495191 -0.930564  0.074385 -0.005836   74.00    0.0  \n",
              "233739  0.838119 -1.388117 -0.133513  0.219108  0.191030  302.06    0.0  \n",
              "233740  0.538720 -0.115481  0.535193 -0.068240 -0.054121   10.00    0.0  \n",
              "233741  0.000651 -0.281599 -0.176316  0.017253 -0.050112    5.00    0.0  \n",
              "\n",
              "[233742 rows x 31 columns]"
            ],
            "text/html": [
              "\n",
              "  <div id=\"df-15eb59f0-a4a7-433d-b251-a13c1cdc612e\" class=\"colab-df-container\">\n",
              "    <div>\n",
              "<style scoped>\n",
              "    .dataframe tbody tr th:only-of-type {\n",
              "        vertical-align: middle;\n",
              "    }\n",
              "\n",
              "    .dataframe tbody tr th {\n",
              "        vertical-align: top;\n",
              "    }\n",
              "\n",
              "    .dataframe thead th {\n",
              "        text-align: right;\n",
              "    }\n",
              "</style>\n",
              "<table border=\"1\" class=\"dataframe\">\n",
              "  <thead>\n",
              "    <tr style=\"text-align: right;\">\n",
              "      <th></th>\n",
              "      <th>Time</th>\n",
              "      <th>V1</th>\n",
              "      <th>V2</th>\n",
              "      <th>V3</th>\n",
              "      <th>V4</th>\n",
              "      <th>V5</th>\n",
              "      <th>V6</th>\n",
              "      <th>V7</th>\n",
              "      <th>V8</th>\n",
              "      <th>V9</th>\n",
              "      <th>...</th>\n",
              "      <th>V21</th>\n",
              "      <th>V22</th>\n",
              "      <th>V23</th>\n",
              "      <th>V24</th>\n",
              "      <th>V25</th>\n",
              "      <th>V26</th>\n",
              "      <th>V27</th>\n",
              "      <th>V28</th>\n",
              "      <th>Amount</th>\n",
              "      <th>Class</th>\n",
              "    </tr>\n",
              "  </thead>\n",
              "  <tbody>\n",
              "    <tr>\n",
              "      <th>0</th>\n",
              "      <td>0.0</td>\n",
              "      <td>-1.359807</td>\n",
              "      <td>-0.072781</td>\n",
              "      <td>2.536347</td>\n",
              "      <td>1.378155</td>\n",
              "      <td>-0.338321</td>\n",
              "      <td>0.462388</td>\n",
              "      <td>0.239599</td>\n",
              "      <td>0.098698</td>\n",
              "      <td>0.363787</td>\n",
              "      <td>...</td>\n",
              "      <td>-0.018307</td>\n",
              "      <td>0.277838</td>\n",
              "      <td>-0.110474</td>\n",
              "      <td>0.066928</td>\n",
              "      <td>0.128539</td>\n",
              "      <td>-0.189115</td>\n",
              "      <td>0.133558</td>\n",
              "      <td>-0.021053</td>\n",
              "      <td>149.62</td>\n",
              "      <td>0.0</td>\n",
              "    </tr>\n",
              "    <tr>\n",
              "      <th>1</th>\n",
              "      <td>0.0</td>\n",
              "      <td>1.191857</td>\n",
              "      <td>0.266151</td>\n",
              "      <td>0.166480</td>\n",
              "      <td>0.448154</td>\n",
              "      <td>0.060018</td>\n",
              "      <td>-0.082361</td>\n",
              "      <td>-0.078803</td>\n",
              "      <td>0.085102</td>\n",
              "      <td>-0.255425</td>\n",
              "      <td>...</td>\n",
              "      <td>-0.225775</td>\n",
              "      <td>-0.638672</td>\n",
              "      <td>0.101288</td>\n",
              "      <td>-0.339846</td>\n",
              "      <td>0.167170</td>\n",
              "      <td>0.125895</td>\n",
              "      <td>-0.008983</td>\n",
              "      <td>0.014724</td>\n",
              "      <td>2.69</td>\n",
              "      <td>0.0</td>\n",
              "    </tr>\n",
              "    <tr>\n",
              "      <th>2</th>\n",
              "      <td>1.0</td>\n",
              "      <td>-1.358354</td>\n",
              "      <td>-1.340163</td>\n",
              "      <td>1.773209</td>\n",
              "      <td>0.379780</td>\n",
              "      <td>-0.503198</td>\n",
              "      <td>1.800499</td>\n",
              "      <td>0.791461</td>\n",
              "      <td>0.247676</td>\n",
              "      <td>-1.514654</td>\n",
              "      <td>...</td>\n",
              "      <td>0.247998</td>\n",
              "      <td>0.771679</td>\n",
              "      <td>0.909412</td>\n",
              "      <td>-0.689281</td>\n",
              "      <td>-0.327642</td>\n",
              "      <td>-0.139097</td>\n",
              "      <td>-0.055353</td>\n",
              "      <td>-0.059752</td>\n",
              "      <td>378.66</td>\n",
              "      <td>0.0</td>\n",
              "    </tr>\n",
              "    <tr>\n",
              "      <th>3</th>\n",
              "      <td>1.0</td>\n",
              "      <td>-0.966272</td>\n",
              "      <td>-0.185226</td>\n",
              "      <td>1.792993</td>\n",
              "      <td>-0.863291</td>\n",
              "      <td>-0.010309</td>\n",
              "      <td>1.247203</td>\n",
              "      <td>0.237609</td>\n",
              "      <td>0.377436</td>\n",
              "      <td>-1.387024</td>\n",
              "      <td>...</td>\n",
              "      <td>-0.108300</td>\n",
              "      <td>0.005274</td>\n",
              "      <td>-0.190321</td>\n",
              "      <td>-1.175575</td>\n",
              "      <td>0.647376</td>\n",
              "      <td>-0.221929</td>\n",
              "      <td>0.062723</td>\n",
              "      <td>0.061458</td>\n",
              "      <td>123.50</td>\n",
              "      <td>0.0</td>\n",
              "    </tr>\n",
              "    <tr>\n",
              "      <th>4</th>\n",
              "      <td>2.0</td>\n",
              "      <td>-1.158233</td>\n",
              "      <td>0.877737</td>\n",
              "      <td>1.548718</td>\n",
              "      <td>0.403034</td>\n",
              "      <td>-0.407193</td>\n",
              "      <td>0.095921</td>\n",
              "      <td>0.592941</td>\n",
              "      <td>-0.270533</td>\n",
              "      <td>0.817739</td>\n",
              "      <td>...</td>\n",
              "      <td>-0.009431</td>\n",
              "      <td>0.798278</td>\n",
              "      <td>-0.137458</td>\n",
              "      <td>0.141267</td>\n",
              "      <td>-0.206010</td>\n",
              "      <td>0.502292</td>\n",
              "      <td>0.219422</td>\n",
              "      <td>0.215153</td>\n",
              "      <td>69.99</td>\n",
              "      <td>0.0</td>\n",
              "    </tr>\n",
              "    <tr>\n",
              "      <th>...</th>\n",
              "      <td>...</td>\n",
              "      <td>...</td>\n",
              "      <td>...</td>\n",
              "      <td>...</td>\n",
              "      <td>...</td>\n",
              "      <td>...</td>\n",
              "      <td>...</td>\n",
              "      <td>...</td>\n",
              "      <td>...</td>\n",
              "      <td>...</td>\n",
              "      <td>...</td>\n",
              "      <td>...</td>\n",
              "      <td>...</td>\n",
              "      <td>...</td>\n",
              "      <td>...</td>\n",
              "      <td>...</td>\n",
              "      <td>...</td>\n",
              "      <td>...</td>\n",
              "      <td>...</td>\n",
              "      <td>...</td>\n",
              "      <td>...</td>\n",
              "    </tr>\n",
              "    <tr>\n",
              "      <th>233737</th>\n",
              "      <td>147684.0</td>\n",
              "      <td>2.053311</td>\n",
              "      <td>0.089735</td>\n",
              "      <td>-1.681836</td>\n",
              "      <td>0.454212</td>\n",
              "      <td>0.298310</td>\n",
              "      <td>-0.953526</td>\n",
              "      <td>0.152003</td>\n",
              "      <td>-0.207071</td>\n",
              "      <td>0.587335</td>\n",
              "      <td>...</td>\n",
              "      <td>-0.361158</td>\n",
              "      <td>-0.984262</td>\n",
              "      <td>0.354198</td>\n",
              "      <td>0.620709</td>\n",
              "      <td>-0.297138</td>\n",
              "      <td>0.166736</td>\n",
              "      <td>-0.068299</td>\n",
              "      <td>-0.029585</td>\n",
              "      <td>8.99</td>\n",
              "      <td>0.0</td>\n",
              "    </tr>\n",
              "    <tr>\n",
              "      <th>233738</th>\n",
              "      <td>147684.0</td>\n",
              "      <td>1.938933</td>\n",
              "      <td>-0.726856</td>\n",
              "      <td>-0.197019</td>\n",
              "      <td>0.670379</td>\n",
              "      <td>-1.043038</td>\n",
              "      <td>-0.473694</td>\n",
              "      <td>-0.682871</td>\n",
              "      <td>-0.129264</td>\n",
              "      <td>-0.323037</td>\n",
              "      <td>...</td>\n",
              "      <td>-0.434638</td>\n",
              "      <td>-0.810170</td>\n",
              "      <td>0.369899</td>\n",
              "      <td>-0.119773</td>\n",
              "      <td>-0.495191</td>\n",
              "      <td>-0.930564</td>\n",
              "      <td>0.074385</td>\n",
              "      <td>-0.005836</td>\n",
              "      <td>74.00</td>\n",
              "      <td>0.0</td>\n",
              "    </tr>\n",
              "    <tr>\n",
              "      <th>233739</th>\n",
              "      <td>147684.0</td>\n",
              "      <td>-0.458365</td>\n",
              "      <td>-0.734428</td>\n",
              "      <td>-1.299382</td>\n",
              "      <td>-1.498641</td>\n",
              "      <td>-1.073566</td>\n",
              "      <td>0.340757</td>\n",
              "      <td>0.796631</td>\n",
              "      <td>0.184616</td>\n",
              "      <td>-0.758188</td>\n",
              "      <td>...</td>\n",
              "      <td>0.819259</td>\n",
              "      <td>2.447577</td>\n",
              "      <td>0.218824</td>\n",
              "      <td>0.838119</td>\n",
              "      <td>-1.388117</td>\n",
              "      <td>-0.133513</td>\n",
              "      <td>0.219108</td>\n",
              "      <td>0.191030</td>\n",
              "      <td>302.06</td>\n",
              "      <td>0.0</td>\n",
              "    </tr>\n",
              "    <tr>\n",
              "      <th>233740</th>\n",
              "      <td>147685.0</td>\n",
              "      <td>2.072601</td>\n",
              "      <td>-0.169893</td>\n",
              "      <td>-1.165646</td>\n",
              "      <td>0.150432</td>\n",
              "      <td>0.120419</td>\n",
              "      <td>-0.468132</td>\n",
              "      <td>-0.062591</td>\n",
              "      <td>-0.207555</td>\n",
              "      <td>0.631411</td>\n",
              "      <td>...</td>\n",
              "      <td>-0.042515</td>\n",
              "      <td>0.036454</td>\n",
              "      <td>0.191641</td>\n",
              "      <td>0.538720</td>\n",
              "      <td>-0.115481</td>\n",
              "      <td>0.535193</td>\n",
              "      <td>-0.068240</td>\n",
              "      <td>-0.054121</td>\n",
              "      <td>10.00</td>\n",
              "      <td>0.0</td>\n",
              "    </tr>\n",
              "    <tr>\n",
              "      <th>233741</th>\n",
              "      <td>147685.0</td>\n",
              "      <td>2.302987</td>\n",
              "      <td>-1.402751</td>\n",
              "      <td>-0.661621</td>\n",
              "      <td>-1.441633</td>\n",
              "      <td>-1.615912</td>\n",
              "      <td>-1.008410</td>\n",
              "      <td>-1.235227</td>\n",
              "      <td>-0.195914</td>\n",
              "      <td>-0.952930</td>\n",
              "      <td>...</td>\n",
              "      <td>-0.174727</td>\n",
              "      <td>0.010670</td>\n",
              "      <td>0.276110</td>\n",
              "      <td>0.000651</td>\n",
              "      <td>-0.281599</td>\n",
              "      <td>-0.176316</td>\n",
              "      <td>0.017253</td>\n",
              "      <td>-0.050112</td>\n",
              "      <td>5.00</td>\n",
              "      <td>0.0</td>\n",
              "    </tr>\n",
              "  </tbody>\n",
              "</table>\n",
              "<p>233742 rows × 31 columns</p>\n",
              "</div>\n",
              "    <div class=\"colab-df-buttons\">\n",
              "\n",
              "  <div class=\"colab-df-container\">\n",
              "    <button class=\"colab-df-convert\" onclick=\"convertToInteractive('df-15eb59f0-a4a7-433d-b251-a13c1cdc612e')\"\n",
              "            title=\"Convert this dataframe to an interactive table.\"\n",
              "            style=\"display:none;\">\n",
              "\n",
              "  <svg xmlns=\"http://www.w3.org/2000/svg\" height=\"24px\" viewBox=\"0 -960 960 960\">\n",
              "    <path d=\"M120-120v-720h720v720H120Zm60-500h600v-160H180v160Zm220 220h160v-160H400v160Zm0 220h160v-160H400v160ZM180-400h160v-160H180v160Zm440 0h160v-160H620v160ZM180-180h160v-160H180v160Zm440 0h160v-160H620v160Z\"/>\n",
              "  </svg>\n",
              "    </button>\n",
              "\n",
              "  <style>\n",
              "    .colab-df-container {\n",
              "      display:flex;\n",
              "      gap: 12px;\n",
              "    }\n",
              "\n",
              "    .colab-df-convert {\n",
              "      background-color: #E8F0FE;\n",
              "      border: none;\n",
              "      border-radius: 50%;\n",
              "      cursor: pointer;\n",
              "      display: none;\n",
              "      fill: #1967D2;\n",
              "      height: 32px;\n",
              "      padding: 0 0 0 0;\n",
              "      width: 32px;\n",
              "    }\n",
              "\n",
              "    .colab-df-convert:hover {\n",
              "      background-color: #E2EBFA;\n",
              "      box-shadow: 0px 1px 2px rgba(60, 64, 67, 0.3), 0px 1px 3px 1px rgba(60, 64, 67, 0.15);\n",
              "      fill: #174EA6;\n",
              "    }\n",
              "\n",
              "    .colab-df-buttons div {\n",
              "      margin-bottom: 4px;\n",
              "    }\n",
              "\n",
              "    [theme=dark] .colab-df-convert {\n",
              "      background-color: #3B4455;\n",
              "      fill: #D2E3FC;\n",
              "    }\n",
              "\n",
              "    [theme=dark] .colab-df-convert:hover {\n",
              "      background-color: #434B5C;\n",
              "      box-shadow: 0px 1px 3px 1px rgba(0, 0, 0, 0.15);\n",
              "      filter: drop-shadow(0px 1px 2px rgba(0, 0, 0, 0.3));\n",
              "      fill: #FFFFFF;\n",
              "    }\n",
              "  </style>\n",
              "\n",
              "    <script>\n",
              "      const buttonEl =\n",
              "        document.querySelector('#df-15eb59f0-a4a7-433d-b251-a13c1cdc612e button.colab-df-convert');\n",
              "      buttonEl.style.display =\n",
              "        google.colab.kernel.accessAllowed ? 'block' : 'none';\n",
              "\n",
              "      async function convertToInteractive(key) {\n",
              "        const element = document.querySelector('#df-15eb59f0-a4a7-433d-b251-a13c1cdc612e');\n",
              "        const dataTable =\n",
              "          await google.colab.kernel.invokeFunction('convertToInteractive',\n",
              "                                                    [key], {});\n",
              "        if (!dataTable) return;\n",
              "\n",
              "        const docLinkHtml = 'Like what you see? Visit the ' +\n",
              "          '<a target=\"_blank\" href=https://colab.research.google.com/notebooks/data_table.ipynb>data table notebook</a>'\n",
              "          + ' to learn more about interactive tables.';\n",
              "        element.innerHTML = '';\n",
              "        dataTable['output_type'] = 'display_data';\n",
              "        await google.colab.output.renderOutput(dataTable, element);\n",
              "        const docLink = document.createElement('div');\n",
              "        docLink.innerHTML = docLinkHtml;\n",
              "        element.appendChild(docLink);\n",
              "      }\n",
              "    </script>\n",
              "  </div>\n",
              "\n",
              "\n",
              "<div id=\"df-2da7f476-d9f3-4d1b-ad45-8c0e08191db7\">\n",
              "  <button class=\"colab-df-quickchart\" onclick=\"quickchart('df-2da7f476-d9f3-4d1b-ad45-8c0e08191db7')\"\n",
              "            title=\"Suggest charts.\"\n",
              "            style=\"display:none;\">\n",
              "\n",
              "<svg xmlns=\"http://www.w3.org/2000/svg\" height=\"24px\"viewBox=\"0 0 24 24\"\n",
              "     width=\"24px\">\n",
              "    <g>\n",
              "        <path d=\"M19 3H5c-1.1 0-2 .9-2 2v14c0 1.1.9 2 2 2h14c1.1 0 2-.9 2-2V5c0-1.1-.9-2-2-2zM9 17H7v-7h2v7zm4 0h-2V7h2v10zm4 0h-2v-4h2v4z\"/>\n",
              "    </g>\n",
              "</svg>\n",
              "  </button>\n",
              "\n",
              "<style>\n",
              "  .colab-df-quickchart {\n",
              "      --bg-color: #E8F0FE;\n",
              "      --fill-color: #1967D2;\n",
              "      --hover-bg-color: #E2EBFA;\n",
              "      --hover-fill-color: #174EA6;\n",
              "      --disabled-fill-color: #AAA;\n",
              "      --disabled-bg-color: #DDD;\n",
              "  }\n",
              "\n",
              "  [theme=dark] .colab-df-quickchart {\n",
              "      --bg-color: #3B4455;\n",
              "      --fill-color: #D2E3FC;\n",
              "      --hover-bg-color: #434B5C;\n",
              "      --hover-fill-color: #FFFFFF;\n",
              "      --disabled-bg-color: #3B4455;\n",
              "      --disabled-fill-color: #666;\n",
              "  }\n",
              "\n",
              "  .colab-df-quickchart {\n",
              "    background-color: var(--bg-color);\n",
              "    border: none;\n",
              "    border-radius: 50%;\n",
              "    cursor: pointer;\n",
              "    display: none;\n",
              "    fill: var(--fill-color);\n",
              "    height: 32px;\n",
              "    padding: 0;\n",
              "    width: 32px;\n",
              "  }\n",
              "\n",
              "  .colab-df-quickchart:hover {\n",
              "    background-color: var(--hover-bg-color);\n",
              "    box-shadow: 0 1px 2px rgba(60, 64, 67, 0.3), 0 1px 3px 1px rgba(60, 64, 67, 0.15);\n",
              "    fill: var(--button-hover-fill-color);\n",
              "  }\n",
              "\n",
              "  .colab-df-quickchart-complete:disabled,\n",
              "  .colab-df-quickchart-complete:disabled:hover {\n",
              "    background-color: var(--disabled-bg-color);\n",
              "    fill: var(--disabled-fill-color);\n",
              "    box-shadow: none;\n",
              "  }\n",
              "\n",
              "  .colab-df-spinner {\n",
              "    border: 2px solid var(--fill-color);\n",
              "    border-color: transparent;\n",
              "    border-bottom-color: var(--fill-color);\n",
              "    animation:\n",
              "      spin 1s steps(1) infinite;\n",
              "  }\n",
              "\n",
              "  @keyframes spin {\n",
              "    0% {\n",
              "      border-color: transparent;\n",
              "      border-bottom-color: var(--fill-color);\n",
              "      border-left-color: var(--fill-color);\n",
              "    }\n",
              "    20% {\n",
              "      border-color: transparent;\n",
              "      border-left-color: var(--fill-color);\n",
              "      border-top-color: var(--fill-color);\n",
              "    }\n",
              "    30% {\n",
              "      border-color: transparent;\n",
              "      border-left-color: var(--fill-color);\n",
              "      border-top-color: var(--fill-color);\n",
              "      border-right-color: var(--fill-color);\n",
              "    }\n",
              "    40% {\n",
              "      border-color: transparent;\n",
              "      border-right-color: var(--fill-color);\n",
              "      border-top-color: var(--fill-color);\n",
              "    }\n",
              "    60% {\n",
              "      border-color: transparent;\n",
              "      border-right-color: var(--fill-color);\n",
              "    }\n",
              "    80% {\n",
              "      border-color: transparent;\n",
              "      border-right-color: var(--fill-color);\n",
              "      border-bottom-color: var(--fill-color);\n",
              "    }\n",
              "    90% {\n",
              "      border-color: transparent;\n",
              "      border-bottom-color: var(--fill-color);\n",
              "    }\n",
              "  }\n",
              "</style>\n",
              "\n",
              "  <script>\n",
              "    async function quickchart(key) {\n",
              "      const quickchartButtonEl =\n",
              "        document.querySelector('#' + key + ' button');\n",
              "      quickchartButtonEl.disabled = true;  // To prevent multiple clicks.\n",
              "      quickchartButtonEl.classList.add('colab-df-spinner');\n",
              "      try {\n",
              "        const charts = await google.colab.kernel.invokeFunction(\n",
              "            'suggestCharts', [key], {});\n",
              "      } catch (error) {\n",
              "        console.error('Error during call to suggestCharts:', error);\n",
              "      }\n",
              "      quickchartButtonEl.classList.remove('colab-df-spinner');\n",
              "      quickchartButtonEl.classList.add('colab-df-quickchart-complete');\n",
              "    }\n",
              "    (() => {\n",
              "      let quickchartButtonEl =\n",
              "        document.querySelector('#df-2da7f476-d9f3-4d1b-ad45-8c0e08191db7 button');\n",
              "      quickchartButtonEl.style.display =\n",
              "        google.colab.kernel.accessAllowed ? 'block' : 'none';\n",
              "    })();\n",
              "  </script>\n",
              "</div>\n",
              "    </div>\n",
              "  </div>\n"
            ]
          },
          "metadata": {},
          "execution_count": 3
        }
      ]
    },
    {
      "cell_type": "code",
      "source": [
        " # Checking for missing values\n",
        "print(data.isnull().sum())\n"
      ],
      "metadata": {
        "colab": {
          "base_uri": "https://localhost:8080/"
        },
        "id": "2wzAs1p7Tvxg",
        "outputId": "470a22ac-9dbb-401a-cb50-997c55e0038c"
      },
      "execution_count": 4,
      "outputs": [
        {
          "output_type": "stream",
          "name": "stdout",
          "text": [
            "Time      0\n",
            "V1        0\n",
            "V2        0\n",
            "V3        0\n",
            "V4        0\n",
            "V5        0\n",
            "V6        0\n",
            "V7        0\n",
            "V8        0\n",
            "V9        0\n",
            "V10       0\n",
            "V11       0\n",
            "V12       0\n",
            "V13       0\n",
            "V14       0\n",
            "V15       0\n",
            "V16       0\n",
            "V17       0\n",
            "V18       0\n",
            "V19       0\n",
            "V20       0\n",
            "V21       0\n",
            "V22       0\n",
            "V23       0\n",
            "V24       0\n",
            "V25       0\n",
            "V26       0\n",
            "V27       0\n",
            "V28       0\n",
            "Amount    0\n",
            "Class     0\n",
            "dtype: int64\n"
          ]
        }
      ]
    },
    {
      "cell_type": "markdown",
      "source": [
        "###3. Feature Engineering: Extract relevant features and engineer new ones that could aid in fraud detection"
      ],
      "metadata": {
        "id": "I3JxakysbnPE"
      }
    },
    {
      "cell_type": "code",
      "source": [
        "# We can extract some relevant features to aid in fraud detection\n",
        "# For instance, let's create a feature that calculates the sum of all the 'V' columns\n",
        "data['V_sum'] = data[[col for col in data.columns if col.startswith('V')]].sum(axis=1)\n",
        "\n",
        "# Additionally, i can engineer more features based on  understanding of the data.\n"
      ],
      "metadata": {
        "id": "f1LbDQwYUB9F"
      },
      "execution_count": 5,
      "outputs": []
    },
    {
      "cell_type": "markdown",
      "source": [
        "### 4. Exploratory Data Analysis (EDA): Visualize patterns and anomalies in the data using graphs and statistics."
      ],
      "metadata": {
        "id": "EVJNeZtkbxqp"
      }
    },
    {
      "cell_type": "code",
      "source": [
        "# Import necessary libraries\n",
        "import matplotlib.pyplot as plt\n",
        "\n",
        "# Visualizing the distribution of the 'Amount' feature\n",
        "plt.figure(figsize=(10,6))\n",
        "plt.hist(data['Amount'], bins=50, color='skyblue')\n",
        "plt.title('Transaction Amount Distribution')\n",
        "plt.xlabel('Amount')\n",
        "plt.ylabel('Frequency')\n",
        "plt.show()\n"
      ],
      "metadata": {
        "colab": {
          "base_uri": "https://localhost:8080/",
          "height": 564
        },
        "id": "ml0oIhVbXOSm",
        "outputId": "28a8d361-71db-443b-da1a-d2b6f4edc82c"
      },
      "execution_count": 7,
      "outputs": [
        {
          "output_type": "display_data",
          "data": {
            "text/plain": [
              "<Figure size 1000x600 with 1 Axes>"
            ],
            "image/png": "[encoded data removed]"
          },
          "metadata": {}
        }
      ]
    },
    {
      "cell_type": "markdown",
      "source": [
        "### 5. Model Selection: Choose classification algorithms like Random Forest, Support Vector Machines, or Neural Networks.\n"
      ],
      "metadata": {
        "id": "lu4hYovqb9A-"
      }
    },
    {
      "cell_type": "code",
      "source": [
        "# Import necessary libraries for model selection\n",
        "from sklearn.ensemble import RandomForestClassifier\n",
        "from sklearn.svm import SVC\n",
        "from tensorflow.keras.models import Sequential\n",
        "from tensorflow.keras.layers import Dense\n"
      ],
      "metadata": {
        "id": "CzjaEEtUZ_bx"
      },
      "execution_count": null,
      "outputs": []
    },
    {
      "cell_type": "code",
      "source": [
        "# Choose the models i want to work with\n",
        "model1 = RandomForestClassifier()\n",
        "model2 = SVC()\n",
        "model3 = Sequential([\n",
        "    Dense(64, activation='relu', input_shape=(data.shape[1],)),\n",
        "    Dense(32, activation='relu'),\n",
        "    Dense(1, activation='sigmoid')\n",
        "])\n"
      ],
      "metadata": {
        "id": "1XVjoAWvUJ_B"
      },
      "execution_count": 8,
      "outputs": []
    },
    {
      "cell_type": "markdown",
      "source": [
        "### 6. Model Training: Train the model on the preprocessed dataset."
      ],
      "metadata": {
        "id": "joyQO9NRcFwj"
      }
    },
    {
      "cell_type": "code",
      "source": [
        "from sklearn.model_selection import train_test_split\n",
        "from sklearn.metrics import accuracy_score, precision_score, recall_score, f1_score"
      ],
      "metadata": {
        "id": "e0KZOyjlUtRC"
      },
      "execution_count": 9,
      "outputs": []
    },
    {
      "cell_type": "code",
      "source": [
        "# Assuming X_train, X_test, y_train, and y_test are defined or obtained from the data\n",
        "X_train, X_test, y_train, y_test = train_test_split(data.drop('Class', axis=1), data['Class'], test_size=0.2, random_state=42)"
      ],
      "metadata": {
        "id": "eWxPdMNAWW-5"
      },
      "execution_count": 10,
      "outputs": []
    },
    {
      "cell_type": "code",
      "source": [
        "from tensorflow.keras.optimizers import Adam\n",
        "\n",
        "# Define a new model with optimized parameters\n",
        "model = Sequential([\n",
        "    Dense(64, activation='relu', input_shape=(X_train.shape[1],)),\n",
        "    Dense(32, activation='relu'),\n",
        "    Dense(1, activation='sigmoid')\n",
        "])\n",
        "\n",
        "# Compile the model with optimized hyperparameters\n",
        "opt = Adam(learning_rate=0.001)  # Adjust the learning rate as needed\n",
        "model.compile(optimizer=opt, loss='binary_crossentropy', metrics=['accuracy'])\n",
        "\n",
        "# Train the model with the optimized parameters\n",
        "history = model.fit(X_train, y_train, epochs=20, batch_size=64)  # Adjust the batch size and number of epochs as needed\n"
      ],
      "metadata": {
        "colab": {
          "base_uri": "https://localhost:8080/"
        },
        "id": "0I95dbBdWfeQ",
        "outputId": "2aae73d1-c86b-40e4-b6ba-89cdf5eb5706"
      },
      "execution_count": 12,
      "outputs": [
        {
          "output_type": "stream",
          "name": "stdout",
          "text": [
            "Epoch 1/20\n",
            "2922/2922 [==============================] - 9s 2ms/step - loss: 19.3617 - accuracy: 0.9940\n",
            "Epoch 2/20\n",
            "2922/2922 [==============================] - 6s 2ms/step - loss: 7.4053 - accuracy: 0.9961\n",
            "Epoch 3/20\n",
            "2922/2922 [==============================] - 5s 2ms/step - loss: 3.2942 - accuracy: 0.9967\n",
            "Epoch 4/20\n",
            "2922/2922 [==============================] - 6s 2ms/step - loss: 3.2140 - accuracy: 0.9958\n",
            "Epoch 5/20\n",
            "2922/2922 [==============================] - 5s 2ms/step - loss: 2.2686 - accuracy: 0.9961\n",
            "Epoch 6/20\n",
            "2922/2922 [==============================] - 6s 2ms/step - loss: 1.4465 - accuracy: 0.9968\n",
            "Epoch 7/20\n",
            "2922/2922 [==============================] - 6s 2ms/step - loss: 1.0214 - accuracy: 0.9968\n",
            "Epoch 8/20\n",
            "2922/2922 [==============================] - 5s 2ms/step - loss: 1.6108 - accuracy: 0.9960\n",
            "Epoch 9/20\n",
            "2922/2922 [==============================] - 7s 2ms/step - loss: 1.2464 - accuracy: 0.9970\n",
            "Epoch 10/20\n",
            "2922/2922 [==============================] - 5s 2ms/step - loss: 1.4593 - accuracy: 0.9972\n",
            "Epoch 11/20\n",
            "2922/2922 [==============================] - 6s 2ms/step - loss: 1.2425 - accuracy: 0.9973\n",
            "Epoch 12/20\n",
            "2922/2922 [==============================] - 5s 2ms/step - loss: 0.9965 - accuracy: 0.9973\n",
            "Epoch 13/20\n",
            "2922/2922 [==============================] - 6s 2ms/step - loss: 1.6714 - accuracy: 0.9971\n",
            "Epoch 14/20\n",
            "2922/2922 [==============================] - 5s 2ms/step - loss: 0.4658 - accuracy: 0.9977\n",
            "Epoch 15/20\n",
            "2922/2922 [==============================] - 5s 2ms/step - loss: 0.2912 - accuracy: 0.9974\n",
            "Epoch 16/20\n",
            "2922/2922 [==============================] - 6s 2ms/step - loss: 0.1136 - accuracy: 0.9982\n",
            "Epoch 17/20\n",
            "2922/2922 [==============================] - 5s 2ms/step - loss: 0.0750 - accuracy: 0.9980\n",
            "Epoch 18/20\n",
            "2922/2922 [==============================] - 6s 2ms/step - loss: 0.0203 - accuracy: 0.9985\n",
            "Epoch 19/20\n",
            "2922/2922 [==============================] - 6s 2ms/step - loss: 0.0392 - accuracy: 0.9980\n",
            "Epoch 20/20\n",
            "2922/2922 [==============================] - 6s 2ms/step - loss: 0.0151 - accuracy: 0.9982\n"
          ]
        }
      ]
    },
    {
      "cell_type": "markdown",
      "source": [
        "### 7. Model Evaluation: Evaluate the model's performance using metrics like accuracy, precision, recall, and F1-score."
      ],
      "metadata": {
        "id": "I7T6Xj1ncZaX"
      }
    },
    {
      "cell_type": "code",
      "source": [
        "\n",
        "from sklearn.metrics import accuracy_score, precision_score, recall_score, f1_score\n"
      ],
      "metadata": {
        "id": "_Zk2G6gyYR9p"
      },
      "execution_count": 13,
      "outputs": []
    },
    {
      "cell_type": "code",
      "source": [
        "\n",
        "# Assuming you have already defined y_test and obtained y_pred from the model\n",
        "y_pred = model.predict(X_test)\n",
        "\n",
        "# Convert y_pred to binary values if necessary\n",
        "y_pred_binary = (y_pred > 0.5).astype(int)\n",
        "\n"
      ],
      "metadata": {
        "colab": {
          "base_uri": "https://localhost:8080/"
        },
        "id": "6Zae4oEIY76Z",
        "outputId": "13512476-5181-492e-a6b4-782f12666f19"
      },
      "execution_count": 18,
      "outputs": [
        {
          "output_type": "stream",
          "name": "stdout",
          "text": [
            "1461/1461 [==============================] - 2s 1ms/step\n"
          ]
        }
      ]
    },
    {
      "cell_type": "code",
      "source": [
        "# Print the evaluation metrics\n",
        "print(f\"Accuracy: {accuracy}\")\n",
        "print(f\"Precision: {precision}\")\n",
        "print(f\"Recall: {recall}\")\n",
        "print(f\"F1 Score: {f1}\")"
      ],
      "metadata": {
        "colab": {
          "base_uri": "https://localhost:8080/"
        },
        "id": "79h56HmuZCU0",
        "outputId": "d7f4dbc4-7858-4268-a94e-50f7d6561d45"
      },
      "execution_count": 19,
      "outputs": [
        {
          "output_type": "stream",
          "name": "stdout",
          "text": [
            "Accuracy: 0.9983529059445122\n",
            "Precision: 1.0\n",
            "Recall: 0.01282051282051282\n",
            "F1 Score: 0.02531645569620253\n"
          ]
        }
      ]
    },
    {
      "cell_type": "markdown",
      "source": [
        "# CLASSIFICATION REPORT OF MY TASK--2:\n",
        "\n",
        "\n",
        "\n",
        "\n",
        "\n",
        "Accuracy: 0.9983529059445122\n",
        "\n",
        "Precision: 1.0\n",
        "\n",
        "Recall: 0.01282051282051282\n",
        "\n",
        "F1 Score: 0.02531645569620253"
      ],
      "metadata": {
        "id": "kY0V6d3BcgmJ"
      }
    },
    {
      "cell_type": "code",
      "source": [],
      "metadata": {
        "id": "rAg3OP9yckXa"
      },
      "execution_count": null,
      "outputs": []
    }
  ]
}